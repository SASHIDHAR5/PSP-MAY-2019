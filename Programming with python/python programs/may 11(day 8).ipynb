{
 "cells": [
  {
   "cell_type": "markdown",
   "metadata": {},
   "source": [
    "#  Problem Solving and Programming \n",
    "##  Day no -08\n",
    "##  PV Poorna Sasidhar\n",
    "##  11-05-2019 \n"
   ]
  },
  {
   "cell_type": "markdown",
   "metadata": {},
   "source": [
    "## Problem 1\n",
    "Define a function to merge the characters of two strings alternatively. The remaining characters of the longer string are printed in the same order at the end.\n",
    "### Test objectives\n",
    "* mergeString('abcd', 'abcd') -> 'aabbccdd'\n",
    "* mergeString('abc', '123456') -> 'a1b2c3456'\n",
    "* mergeString('0', '123456') -> '0123456'\n"
   ]
  },
  {
   "cell_type": "code",
   "execution_count": 135,
   "metadata": {},
   "outputs": [
    {
     "name": "stdout",
     "output_type": "stream",
     "text": [
      "0123456\n"
     ]
    }
   ],
   "source": [
    "def mergestring(a,b):\n",
    "    c=\"\"\n",
    "    j=0\n",
    "    for i in range(0,len(b)):\n",
    "        if(i<len(a)):\n",
    "            d=c+a[i]+b[j]\n",
    "            c=d\n",
    "            j=j+1\n",
    "        else:\n",
    "            d=c+b[j]\n",
    "            j=j+1\n",
    "            c=d\n",
    "    print(d)\n",
    "        \n",
    "mergestring('0', '123456')\n",
    "        \n",
    "    "
   ]
  },
  {
   "cell_type": "markdown",
   "metadata": {},
   "source": [
    "## Problem 2\n",
    "Design a procedure to search for an element in a given array\n",
    "## Test conditions\n",
    "* search([1,2, 3 ,5, 8, 9], 9) -> 5"
   ]
  },
  {
   "cell_type": "code",
   "execution_count": 46,
   "metadata": {},
   "outputs": [
    {
     "data": {
      "text/plain": [
       "1"
      ]
     },
     "execution_count": 46,
     "metadata": {},
     "output_type": "execute_result"
    }
   ],
   "source": [
    "def search(a,b):\n",
    "    for i in range(0,len(a)):\n",
    "        if(a[i]==b):\n",
    "            return i\n",
    "        \n",
    "search([1,2,3,5,8,9],2)"
   ]
  },
  {
   "cell_type": "markdown",
   "metadata": {},
   "source": [
    "## Problem 3\n",
    "Design a procedure to identify all unique elements in an array\n",
    "### Test conditions\n",
    "* unique([1, 2, 3, 4, 3, 2, 1, 0, 0]) -> [1, 2, 3, 4, 0]\n",
    "* unique([9]) -> [9]"
   ]
  },
  {
   "cell_type": "code",
   "execution_count": 124,
   "metadata": {},
   "outputs": [
    {
     "data": {
      "text/plain": [
       "[1, 2, 3, 4, 3, 2, 1, 0]"
      ]
     },
     "execution_count": 124,
     "metadata": {},
     "output_type": "execute_result"
    }
   ],
   "source": [
    "def unique(a):\n",
    "    j=0\n",
    "    b=[]\n",
    "    b.append(a[0])\n",
    "    for i in range(1,len(a)):\n",
    "        for j in range()\n",
    "        if(a[i]!=b[j]):\n",
    "            b.append(a[i])\n",
    "        j=j+1     \n",
    "    return b\n",
    "    \n",
    "unique([1,2,3,4,3,2,1,0,0])\n",
    "        \n",
    "        \n",
    "    \n",
    "    "
   ]
  },
  {
   "cell_type": "markdown",
   "metadata": {},
   "source": [
    "## Problem 4\n",
    " Define a function to convert a binary number to the corresponding decimal number\n",
    " ### Test condtions\n",
    "* binaryToDecimal(1100) -> 12\n",
    "* binaryToDecimal(1010) -> 10\n",
    "* binaryToDecimal(111000) -> 56"
   ]
  },
  {
   "cell_type": "code",
   "execution_count": 168,
   "metadata": {},
   "outputs": [
    {
     "data": {
      "text/plain": [
       "10"
      ]
     },
     "execution_count": 168,
     "metadata": {},
     "output_type": "execute_result"
    }
   ],
   "source": [
    "def binaryToDecimal(a):\n",
    "    c=0\n",
    "    for i in range(0,len(a)):\n",
    "        b=((a[i])*((2)**(len(a)-(i+1))))+c\n",
    "        c=b\n",
    "    return c\n",
    "\n",
    "binaryToDecimal([1,0,1,0])\n",
    "        "
   ]
  },
  {
   "cell_type": "markdown",
   "metadata": {},
   "source": [
    "## Problem 5\n",
    "Define a function to convert a decimal number to the corresponding binary number\n",
    "* decimalToBinary(15) -> 1111\n",
    "* decimalToBinary(1) -> 1\n"
   ]
  },
  {
   "cell_type": "code",
   "execution_count": 2,
   "metadata": {},
   "outputs": [
    {
     "name": "stdout",
     "output_type": "stream",
     "text": [
      "1 0 0 0 0 0 0 0 0 "
     ]
    }
   ],
   "source": [
    "def decimalToBinary(n):  \n",
    "  \n",
    "    if(n > 1):\n",
    "        decimalToBinary(n//2)  \n",
    "  \n",
    "      \n",
    "    print(n%2, end=' ') \n",
    "    \n",
    "decimalToBinary(256)"
   ]
  },
  {
   "cell_type": "markdown",
   "metadata": {},
   "source": [
    "## Problem 6\n",
    " Define a function to check if a given year is a leap year. Returns a boolean value\n",
    " ### Test conditions\n",
    "* 2000 -> True\n",
    "* 1900 -> False\n",
    "* 2012 -> True\n",
    "* 2020 -> True\n",
    "* 0200 -> False"
   ]
  },
  {
   "cell_type": "code",
   "execution_count": 188,
   "metadata": {},
   "outputs": [
    {
     "data": {
      "text/plain": [
       "False"
      ]
     },
     "execution_count": 188,
     "metadata": {},
     "output_type": "execute_result"
    }
   ],
   "source": [
    "def leapyear(n):\n",
    "    if(n%100==0):\n",
    "        if(n%400==0):\n",
    "            return True\n",
    "        else:\n",
    "            return False\n",
    "    elif(n%4==0):\n",
    "        return True\n",
    "    else:\n",
    "        return False\n",
    "        \n",
    "leapyear(200)\n",
    "    "
   ]
  },
  {
   "cell_type": "markdown",
   "metadata": {},
   "source": [
    "## Problem 7\n",
    "Define a function to find the average of all the outer elements of an N x M matrix.\n",
    "### Test conditions\n",
    "* averageOuterMatrix([[1, 2, 3], [4, 5, 6], [7, 8, 9], [10, 11, 12]] -> 6.5"
   ]
  },
  {
   "cell_type": "code",
   "execution_count": 15,
   "metadata": {},
   "outputs": [
    {
     "data": {
      "text/plain": [
       "6.5"
      ]
     },
     "execution_count": 15,
     "metadata": {},
     "output_type": "execute_result"
    }
   ],
   "source": [
    "def matrix(a):\n",
    "    sum=0\n",
    "    b=0\n",
    "    \n",
    "    for i in range(0,len(a)):\n",
    "        if i==0 or i==len(a)-1:\n",
    "            for j in range(0,len(a[i])):\n",
    "                sum=sum+a[i][j]\n",
    "                b=b+1\n",
    "        else:\n",
    "            sum=sum+a[i][0]+a[i][len(a[i])-1]\n",
    "            b=b+2\n",
    "    return sum/b\n",
    "matrix([[1,2,3],[4,5,6],[7,8,9],[10,11,12]])\n",
    "            "
   ]
  },
  {
   "cell_type": "code",
   "execution_count": null,
   "metadata": {},
   "outputs": [],
   "source": []
  }
 ],
 "metadata": {
  "kernelspec": {
   "display_name": "Python 3",
   "language": "python",
   "name": "python3"
  },
  "language_info": {
   "codemirror_mode": {
    "name": "ipython",
    "version": 3
   },
   "file_extension": ".py",
   "mimetype": "text/x-python",
   "name": "python",
   "nbconvert_exporter": "python",
   "pygments_lexer": "ipython3",
   "version": "3.7.3"
  }
 },
 "nbformat": 4,
 "nbformat_minor": 2
}
