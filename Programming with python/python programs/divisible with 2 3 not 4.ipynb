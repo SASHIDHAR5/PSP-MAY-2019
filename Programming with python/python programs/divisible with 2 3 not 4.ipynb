{
 "cells": [
  {
   "cell_type": "markdown",
   "metadata": {},
   "source": [
    "## problem 1:\n",
    "#### Statement \n",
    "for a given number ,define a function check if it is divisible by 2 and 3 but not 4\n",
    "#### Constraints\n",
    "Given number will be in range [1,1000000000]\n",
    "\n",
    "\n",
    "#### Test Cases \n",
    "* checkDivisibility(6) ->True\n",
    "* checkDivisibility(16)-> false\n",
    "* checkDivisibility(20)-> false"
   ]
  },
  {
   "cell_type": "code",
   "execution_count": 14,
   "metadata": {},
   "outputs": [
    {
     "data": {
      "text/plain": [
       "False"
      ]
     },
     "execution_count": 14,
     "metadata": {},
     "output_type": "execute_result"
    }
   ],
   "source": [
    "def checkDivisibility(n):\n",
    "    if(n % 2== 0 and n % 3== 0 and n % 4!= 0):\n",
    "        return True\n",
    "    else:\n",
    "        return False\n",
    "    \n",
    "\n",
    "checkDivisibility(20)"
   ]
  },
  {
   "cell_type": "code",
   "execution_count": null,
   "metadata": {},
   "outputs": [],
   "source": []
  }
 ],
 "metadata": {
  "kernelspec": {
   "display_name": "Python 3",
   "language": "python",
   "name": "python3"
  },
  "language_info": {
   "codemirror_mode": {
    "name": "ipython",
    "version": 3
   },
   "file_extension": ".py",
   "mimetype": "text/x-python",
   "name": "python",
   "nbconvert_exporter": "python",
   "pygments_lexer": "ipython3",
   "version": "3.7.3"
  }
 },
 "nbformat": 4,
 "nbformat_minor": 2
}
