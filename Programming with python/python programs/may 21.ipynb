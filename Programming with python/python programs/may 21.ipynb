{
 "cells": [
  {
   "cell_type": "markdown",
   "metadata": {},
   "source": [
    "#  Problem Solving and Programming \n",
    "##  Day no -18\n",
    "##  PV Poorna Sasidhar\n",
    "##  21-05-2019 \n"
   ]
  },
  {
   "cell_type": "markdown",
   "metadata": {},
   "source": [
    "# Problem 1\n",
    "Binary search"
   ]
  },
  {
   "cell_type": "code",
   "execution_count": 9,
   "metadata": {},
   "outputs": [
    {
     "data": {
      "text/plain": [
       "-1"
      ]
     },
     "execution_count": 9,
     "metadata": {},
     "output_type": "execute_result"
    }
   ],
   "source": [
    "def binarysearch(array,leftIndex,rightIndex,tarItem):\n",
    "    while(leftIndex<=rightIndex):\n",
    "        midIndex=leftIndex+(rightIndex-leftIndex)//2\n",
    "        if(array[midIndex]==tarItem):\n",
    "            return midIndex\n",
    "        if(array[midIndex]>tarItem):\n",
    "            rightIndex=midIndex -1\n",
    "        else:\n",
    "            leftIndex=midIndex+1\n",
    "    return -1\n",
    "\n",
    "array=[1,12,25,45,57,99]       \n",
    "binarysearch(array,0,5,12)\n"
   ]
  },
  {
   "cell_type": "code",
   "execution_count": null,
   "metadata": {},
   "outputs": [],
   "source": []
  }
 ],
 "metadata": {
  "kernelspec": {
   "display_name": "Python 3",
   "language": "python",
   "name": "python3"
  },
  "language_info": {
   "codemirror_mode": {
    "name": "ipython",
    "version": 3
   },
   "file_extension": ".py",
   "mimetype": "text/x-python",
   "name": "python",
   "nbconvert_exporter": "python",
   "pygments_lexer": "ipython3",
   "version": "3.7.3"
  }
 },
 "nbformat": 4,
 "nbformat_minor": 2
}
