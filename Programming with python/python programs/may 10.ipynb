{
 "cells": [
  {
   "cell_type": "markdown",
   "metadata": {},
   "source": [
    "#  Problem Solving and Programming \n",
    "##  Day no -07\n",
    "##  PV Poorna Sasidhar\n",
    "##  10-05-2019 \n"
   ]
  },
  {
   "cell_type": "markdown",
   "metadata": {},
   "source": [
    "### Day Objectives\n",
    "* programs of day 6"
   ]
  },
  {
   "cell_type": "markdown",
   "metadata": {},
   "source": [
    "## Problem 1 \n",
    "Design a procedure calculate the maximum, minimum and average of N numbers\n",
    "### Test data\n",
    "data( a[1,2,3,4,5] ) -> Max = 5, Min = 1, Avg = 3"
   ]
  },
  {
   "cell_type": "code",
   "execution_count": 53,
   "metadata": {},
   "outputs": [
    {
     "name": "stdout",
     "output_type": "stream",
     "text": [
      "2\n",
      "13\n",
      "7.0\n"
     ]
    }
   ],
   "source": [
    "def array(a):\n",
    "    print(min(a))\n",
    "    print(max(a))\n",
    "    sum=0\n",
    "    for i in range(0,len(a)):\n",
    "        sum=sum+a[i] \n",
    "        avg=sum/len(a)\n",
    "    print(avg)\n",
    "    \n",
    "array([7,9,13,4,2])\n",
    "    \n",
    "            \n",
    "        "
   ]
  },
  {
   "cell_type": "markdown",
   "metadata": {},
   "source": []
  },
  {
   "cell_type": "markdown",
   "metadata": {},
   "source": [
    "## Problem 2 \n",
    "Design a procedure to determine if a given string is a Palindrome\n",
    "### Test conditions\n",
    "* Palindrome(\"racecar\") -> True\n",
    "* Palindrome(\"raptor\") -> False"
   ]
  },
  {
   "cell_type": "code",
   "execution_count": 67,
   "metadata": {},
   "outputs": [
    {
     "ename": "SyntaxError",
     "evalue": "invalid syntax (<ipython-input-67-6ab514f86f3e>, line 2)",
     "output_type": "error",
     "traceback": [
      "\u001b[1;36m  File \u001b[1;32m\"<ipython-input-67-6ab514f86f3e>\"\u001b[1;36m, line \u001b[1;32m2\u001b[0m\n\u001b[1;33m    c = a(-1::-1)\u001b[0m\n\u001b[1;37m            ^\u001b[0m\n\u001b[1;31mSyntaxError\u001b[0m\u001b[1;31m:\u001b[0m invalid syntax\n"
     ]
    }
   ],
   "source": [
    "def palin(a):\n",
    "    c = a[-1::-1]\n",
    "    if(a==c):\n",
    "        return True\n",
    "    return False\n",
    "\n",
    "palin('racecar')\n",
    "        "
   ]
  },
  {
   "cell_type": "markdown",
   "metadata": {},
   "source": [
    "## recursion problems\n",
    "### problem 3\n",
    "* power of a number"
   ]
  },
  {
   "cell_type": "code",
   "execution_count": 54,
   "metadata": {},
   "outputs": [
    {
     "data": {
      "text/plain": [
       "8"
      ]
     },
     "execution_count": 54,
     "metadata": {},
     "output_type": "execute_result"
    }
   ],
   "source": [
    "def recursivePower(n,r):\n",
    "    if r==1:\n",
    "        return n\n",
    "    else:\n",
    "        return recursivePower(n,r-1)*n\n",
    "    \n",
    "recursivePower(2,3)"
   ]
  },
  {
   "cell_type": "markdown",
   "metadata": {},
   "source": [
    "## Problem 4\n",
    "factorial using recursion"
   ]
  },
  {
   "cell_type": "code",
   "execution_count": 59,
   "metadata": {},
   "outputs": [
    {
     "data": {
      "text/plain": [
       "720"
      ]
     },
     "execution_count": 59,
     "metadata": {},
     "output_type": "execute_result"
    }
   ],
   "source": [
    "def factorial(n):\n",
    "    if n==1:\n",
    "        return n\n",
    "    else:\n",
    "        return factorial(n-1)*n\n",
    "\n",
    "factorial(6)"
   ]
  },
  {
   "cell_type": "markdown",
   "metadata": {},
   "source": [
    "## Problem 5\n",
    "greatest commom divisor"
   ]
  },
  {
   "cell_type": "code",
   "execution_count": 64,
   "metadata": {},
   "outputs": [
    {
     "data": {
      "text/plain": [
       "3"
      ]
     },
     "execution_count": 64,
     "metadata": {},
     "output_type": "execute_result"
    }
   ],
   "source": [
    "def gcd(a,b):\n",
    "    if b%a==0:\n",
    "        return a\n",
    "    else:\n",
    "        return gcd(b%a,a)\n",
    "gcd(12,39)"
   ]
  },
  {
   "cell_type": "markdown",
   "metadata": {},
   "source": [
    "## Problem 6\n",
    "towers of hanoi\n",
    "## explanation\n",
    "* n disks -> move n-1 from source to temp\n",
    "            move nth disk from source to destination\n",
    "            move n-1 disks from temp to destination\n",
    "* 3 disks -> move 2 disks from source to temp\n",
    "           move 3rd disk from source to dest\n",
    "           move 2 disks from temp to destination"
   ]
  },
  {
   "cell_type": "code",
   "execution_count": 71,
   "metadata": {},
   "outputs": [
    {
     "name": "stdout",
     "output_type": "stream",
     "text": [
      "move 1 disk from A to B\n",
      "move 2 disk from  A to C\n",
      "move 1 disk from B to C\n",
      "move 3 disk from  A to B\n",
      "move 1 disk from C to A\n",
      "move 2 disk from  C to B\n",
      "move 1 disk from A to B\n",
      "move 4 disk from  A to C\n",
      "move 1 disk from B to C\n",
      "move 2 disk from  B to A\n",
      "move 1 disk from C to A\n",
      "move 3 disk from  B to C\n",
      "move 1 disk from A to B\n",
      "move 2 disk from  A to C\n",
      "move 1 disk from B to C\n"
     ]
    }
   ],
   "source": [
    "def towersOfHanoi(n,source,temp,destination):\n",
    "    if n==1:\n",
    "        print('move',n,'disk from',source,'to',destination)\n",
    "        return\n",
    "    else:\n",
    "        towersOfHanoi(n-1,source,destination,temp)\n",
    "        print('move',n,'disk from ',source,'to',destination)\n",
    "        towersOfHanoi(n-1,temp,source,destination)\n",
    "        return\n",
    "    \n",
    "towersOfHanoi(4,'A','B','C')\n",
    "        \n",
    "        "
   ]
  },
  {
   "cell_type": "markdown",
   "metadata": {},
   "source": [
    "## Problem  7\n",
    "fibonacci series"
   ]
  },
  {
   "cell_type": "code",
   "execution_count": 79,
   "metadata": {},
   "outputs": [
    {
     "data": {
      "text/plain": [
       "2"
      ]
     },
     "execution_count": 79,
     "metadata": {},
     "output_type": "execute_result"
    }
   ],
   "source": [
    "def fibo(n):\n",
    "    if(n<=1):\n",
    "        return n\n",
    "    else:\n",
    "        return  (fibo(n-1)+fibo(n-2))\n",
    "fibo(3)"
   ]
  },
  {
   "cell_type": "markdown",
   "metadata": {},
   "source": [
    "## Problem 8\n",
    "Define a function to identity the number of times a substring is repeating in a given string\n",
    "### Test cases\n",
    "* substringCount('str', 'substr') -> 1\n",
    "* substringCount('1234567891122334455', '3') -> 3\n",
    "* substringCount('abccddccc', 'cc') -> 3"
   ]
  },
  {
   "cell_type": "code",
   "execution_count": 5,
   "metadata": {},
   "outputs": [
    {
     "data": {
      "text/plain": [
       "2"
      ]
     },
     "execution_count": 5,
     "metadata": {},
     "output_type": "execute_result"
    }
   ],
   "source": [
    "def substring(str1,str2):\n",
    "    count=0\n",
    "    for j in range(0,len(str2)):\n",
    "        for a in range(len(str1),len(str2)):\n",
    "            if(str2[j:a+1]==str1):\n",
    "                count=count+1\n",
    "                \n",
    "    return count\n",
    "        \n",
    "                \n",
    "substring('33', '123322133')\n",
    "        \n",
    "        \n",
    "        \n",
    "    "
   ]
  },
  {
   "cell_type": "code",
   "execution_count": 117,
   "metadata": {},
   "outputs": [
    {
     "data": {
      "text/plain": [
       "3"
      ]
     },
     "execution_count": 117,
     "metadata": {},
     "output_type": "execute_result"
    }
   ],
   "source": [
    "def ss(a,b):\n",
    "    count=0\n",
    "    if len(a)<len(b):\n",
    "        return ss(b,a)\n",
    "    else:\n",
    "        j=0\n",
    "        for i in range(len(b),len(a)):\n",
    "            if a[j:i]==b:\n",
    "                count=count+1\n",
    "            j=j+1\n",
    "        return count\n",
    "    \n",
    "ss('1234567891122334455', '3')\n",
    "            \n",
    "        "
   ]
  }
 ],
 "metadata": {
  "kernelspec": {
   "display_name": "Python 3",
   "language": "python",
   "name": "python3"
  },
  "language_info": {
   "codemirror_mode": {
    "name": "ipython",
    "version": 3
   },
   "file_extension": ".py",
   "mimetype": "text/x-python",
   "name": "python",
   "nbconvert_exporter": "python",
   "pygments_lexer": "ipython3",
   "version": "3.7.3"
  }
 },
 "nbformat": 4,
 "nbformat_minor": 2
}
