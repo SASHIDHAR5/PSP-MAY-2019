{
 "cells": [
  {
   "cell_type": "markdown",
   "metadata": {},
   "source": [
    "#  Problem Solving and Programming \n",
    "##  Day no -09\n",
    "##  PV Poorna Sasidhar\n",
    "##  12-05-2019 \n"
   ]
  },
  {
   "cell_type": "markdown",
   "metadata": {},
   "source": [
    "## Problem 1\n",
    "Design a procedure to determine the frequency count of numbers in a given list\n",
    "### Test cases:\n",
    "frequencyCount([1,3,2,1]) -> 1 : 2, 2 : 1, 3 : 1\n"
   ]
  },
  {
   "cell_type": "code",
   "execution_count": 1,
   "metadata": {},
   "outputs": [
    {
     "data": {
      "text/plain": [
       "{1: 2, 3: 1, 2: 1}"
      ]
     },
     "execution_count": 1,
     "metadata": {},
     "output_type": "execute_result"
    }
   ],
   "source": [
    "def frequencyCount(list1):\n",
    "    dict1 = {}\n",
    "    for i in list1:\n",
    "        count = 1\n",
    "        if(i in dict1):\n",
    "            dict1[i] += 1\n",
    "        else:\n",
    "            dict1[i] = 1\n",
    "    return dict1\n",
    "\n",
    "frequencyCount([1,3,2,1])"
   ]
  },
  {
   "cell_type": "markdown",
   "metadata": {},
   "source": [
    "## Problem 2\n",
    " You are given n words. Some words may repeat. For each word, output its number of occurrences. The output order should correspond with the input order of appearance of the word. \n",
    "### constraints\n",
    "* First line of input contains the total number of words n. Next n lines contain words that need to processed.\n",
    "* First line of the output should contain the total number distinct words. Second line of output must contain the frequency   of words the same order of their appearance as in the input\n",
    "\n",
    "### Sample Input :  6\n",
    "\n",
    "abcd\n",
    "\n",
    "ijkl\n",
    "\n",
    "abcd\n",
    "\n",
    "pqrs\n",
    "\n",
    "abcd\n",
    "\n",
    "ijkl\n",
    "\n",
    "### Sample Output :   3\n",
    "\n",
    "3  2   1"
   ]
  },
  {
   "cell_type": "code",
   "execution_count": 2,
   "metadata": {},
   "outputs": [
    {
     "name": "stdout",
     "output_type": "stream",
     "text": [
      "3\n",
      "3 2 1 "
     ]
    },
    {
     "data": {
      "text/plain": [
       "3"
      ]
     },
     "execution_count": 2,
     "metadata": {},
     "output_type": "execute_result"
    }
   ],
   "source": [
    "def wordCount(wc, words):\n",
    "    j = 0\n",
    "    list1 = []\n",
    "    dict1 = {}\n",
    "    list2 = []\n",
    "    for i in range(0, len(words)):\n",
    "        if(words[i] == ' '):\n",
    "            list1.append(words[j:i])\n",
    "            j = i+1\n",
    "            \n",
    "    j = len(words)-1\n",
    "    for i in range(len(words)-1, -1, -1):\n",
    "        if(words[i] == ' '):\n",
    "            list1.append(words[i+1:j+1])\n",
    "            break\n",
    "\n",
    "    for i in list1:\n",
    "        if(i in dict1):\n",
    "            dict1[i] += 1\n",
    "            \n",
    "        else:\n",
    "            dict1[i] = 1\n",
    "            list2.append(i)\n",
    "            wcc = len(list2)\n",
    "            \n",
    "    print(wcc)\n",
    "    for i in dict1:\n",
    "        print(dict1[i], end = ' ')\n",
    "    \n",
    "wordCount(6, 'abcd ijkl abcd pqrs abcd ijkl')\n",
    "3"
   ]
  },
  {
   "cell_type": "code",
   "execution_count": null,
   "metadata": {},
   "outputs": [],
   "source": []
  }
 ],
 "metadata": {
  "kernelspec": {
   "display_name": "Python 3",
   "language": "python",
   "name": "python3"
  },
  "language_info": {
   "codemirror_mode": {
    "name": "ipython",
    "version": 3
   },
   "file_extension": ".py",
   "mimetype": "text/x-python",
   "name": "python",
   "nbconvert_exporter": "python",
   "pygments_lexer": "ipython3",
   "version": "3.7.3"
  }
 },
 "nbformat": 4,
 "nbformat_minor": 2
}
