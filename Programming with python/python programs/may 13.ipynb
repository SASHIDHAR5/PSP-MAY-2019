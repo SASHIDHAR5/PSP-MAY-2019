{
 "cells": [
  {
   "cell_type": "markdown",
   "metadata": {},
   "source": [
    "#  Problem Solving and Programming \n",
    "##  Day no -10\n",
    "##  PV Poorna Sasidhar\n",
    "##  13-05-2019 \n"
   ]
  },
  {
   "cell_type": "markdown",
   "metadata": {},
   "source": [
    "## Problem 1\n",
    "Design a Python script to determine the difference in date for given two dates in YYYY:MM:DD format(0 <= YYYY <= 9999, 1 <= MM <= 12, 1 <= DD <= 31) following the leap year rules. Return the total number of days existing between the two dates.\n",
    "### Test condtions\n",
    "* dateDifference('2019:05:10', '2019:05:01') -> 9\n",
    "* dateDifference('0003:03:03', '0003:06:06') -> 95\n"
   ]
  },
  {
   "cell_type": "code",
   "execution_count": 38,
   "metadata": {},
   "outputs": [
    {
     "data": {
      "text/plain": [
       "759"
      ]
     },
     "execution_count": 38,
     "metadata": {},
     "output_type": "execute_result"
    }
   ],
   "source": [
    "def datedifference(date1,date2):\n",
    "    if yearFromDate(date1)==yearFromDate(date2):\n",
    "        return abs(totalDaysDate(date1)-totalDaysDate(date2))\n",
    "    elif(yearFromDate(date2)-yearFromDate(date1)==1):\n",
    "        return totalDaysDateFromEndofYear(date1)+totalDaysDate(date2)\n",
    "    else:\n",
    "        sum=totalDaysDateFromEndofYear(date1)+totalDaysDate(date2)\n",
    "        year1=yearFromDate(date1)\n",
    "        year2=yearFromDate(date2)\n",
    "        for i in range(year1+1,year2):\n",
    "            sum=sum+numDaysInYear(i)\n",
    "        return sum\n",
    "    \n",
    "def numDaysInMonth(month,year):\n",
    "    \n",
    "    if(month==2):\n",
    "        return DaysInFeb(year)\n",
    "    elif(month<=7  and month!=2 and month%2==0) or (month>7 and month%2!=0):\n",
    "        return 30\n",
    "    else:\n",
    "        return 31\n",
    "    \n",
    "def DaysInFeb(year):  \n",
    "    if(year%400==0)or(year%100!=0 and year%4==0):\n",
    "        return 29\n",
    "    else:\n",
    "        return 28\n",
    "\n",
    "    \n",
    "def numDaysInYear(year):\n",
    "    if(DaysInFeb(year)==29):\n",
    "        return 366\n",
    "    else:\n",
    "        return 365\n",
    "\n",
    "    \n",
    "def totalDaysDateFromEndofYear(date):\n",
    "    year=yearFromDate(date)\n",
    "    month=monthFromDate(date)\n",
    "    day=daysFromDate(date)\n",
    "    # day=int(date[8:10])\n",
    "    sum=0\n",
    "    for i in range(int(month+1),13):\n",
    "        sum=sum+numDaysInMonth(i,year)\n",
    "    sum=sum+(numDaysInMonth(month,year)-day+1)\n",
    "    return sum\n",
    "\n",
    "def yearFromDate(date):\n",
    "    return int(date[:4])\n",
    "\n",
    "def monthFromDate(date):\n",
    "    return int(date[5:7])\n",
    "    \n",
    "def daysFromDate(date):\n",
    "    return int(date[len(date)-2:])\n",
    "\n",
    "\n",
    "#datedifference('0001:03:27','0001:06:03')\n",
    "datedifference('0001:01:31','0003:02:28')"
   ]
  },
  {
   "cell_type": "markdown",
   "metadata": {},
   "source": [
    "### Date difference by using built in functions"
   ]
  },
  {
   "cell_type": "code",
   "execution_count": 40,
   "metadata": {},
   "outputs": [
    {
     "name": "stdout",
     "output_type": "stream",
     "text": [
      "758 days, 0:00:00\n"
     ]
    }
   ],
   "source": [
    "from datetime import date,datetime \n",
    "def datedifference2(date1,date2):\n",
    "    year1=yearFromDate(date1)\n",
    "    month1=monthFromDate(date1)\n",
    "    day1=daysFromDate(date1)\n",
    "    year2=yearFromDate(date2)\n",
    "    month2=monthFromDate(date2)\n",
    "    day2=daysFromDate(date2)\n",
    "    d1=date(year=year1,month=month1,day=day1)\n",
    "    d2=date(year=year2,month=month2,day=day2)\n",
    "    print(d2-d1)\n",
    "    return \n",
    "\n",
    "datedifference2('0001:01:31','0003:02:28')\n"
   ]
  },
  {
   "cell_type": "markdown",
   "metadata": {},
   "source": [
    "## Problem 2\n",
    " Define a function to print the sequence of spiral pattern elements for a given N x N matrix\n",
    " ### Test conditions\n",
    "SpiralPattern([[1,2,3], [4,5,6], [7,8,9]]) -> 1 2 3 6 9 8 7 4 5\n"
   ]
  },
  {
   "cell_type": "code",
   "execution_count": 5,
   "metadata": {},
   "outputs": [
    {
     "name": "stdout",
     "output_type": "stream",
     "text": [
      "1 2 3 6 9 8 7 4 "
     ]
    }
   ],
   "source": [
    "def spiralPattern(matrix):\n",
    "    for i in range(0, 1):\n",
    "        for j in range(0, len(matrix[i])):\n",
    "            print(matrix[i][j], end = ' ')\n",
    "    \n",
    "    for i in range(1, len(matrix)-1):\n",
    "        print(matrix[i][j], end = ' ')\n",
    "    \n",
    "    for i in range(len(matrix)-1, len(matrix)):\n",
    "        for j in range(len(matrix[i])-1,-1,-1):\n",
    "            print(matrix[i][j], end = ' ')\n",
    "            \n",
    "    for i in range(len(matrix)-2, 0, -1):\n",
    "        print(matrix[i][j], end = ' ')\n",
    "        #start = j + 1\n",
    "        #print(start)\n",
    "\n",
    "spiralPattern([[1,2,3], [4,5,6], [7,8,9]])\n"
   ]
  },
  {
   "cell_type": "code",
   "execution_count": 6,
   "metadata": {},
   "outputs": [
    {
     "name": "stdout",
     "output_type": "stream",
     "text": [
      "1 2 3 4 5 6 7 8 9 "
     ]
    }
   ],
   "source": [
    "def matrix(a):\n",
    "    if(a!=0):\n",
    "        j=0\n",
    "        k=1\n",
    "         for i in range(0,len(a)):\n",
    "                for j in range(0,len(a[i])):\n",
    "                    print(a[i][j],end =' ')\n",
    "                    \n",
    "                    \n",
    "                    \n",
    "    \n",
    "        \n",
    "        \n",
    "   \n",
    "matrix([[1,2,3],[4,5,6],[7,8,9]])"
   ]
  },
  {
   "cell_type": "code",
   "execution_count": null,
   "metadata": {},
   "outputs": [],
   "source": []
  }
 ],
 "metadata": {
  "kernelspec": {
   "display_name": "Python 3",
   "language": "python",
   "name": "python3"
  },
  "language_info": {
   "codemirror_mode": {
    "name": "ipython",
    "version": 3
   },
   "file_extension": ".py",
   "mimetype": "text/x-python",
   "name": "python",
   "nbconvert_exporter": "python",
   "pygments_lexer": "ipython3",
   "version": "3.7.3"
  }
 },
 "nbformat": 4,
 "nbformat_minor": 2
}
