{
 "cells": [
  {
   "cell_type": "markdown",
   "metadata": {},
   "source": [
    "#  Problem solving and programming \n",
    "##  Day no -13\n",
    "##  Pv poorna sasidhar\n",
    "##  16-05-2019 \n"
   ]
  },
  {
   "cell_type": "markdown",
   "metadata": {},
   "source": [
    "###  Todays Objectives\n",
    "* Objective 1\n",
    "file handling\n",
    "* Objective 2\n",
    "data processing"
   ]
  },
  {
   "cell_type": "markdown",
   "metadata": {},
   "source": [
    "### Problem 1:\n",
    "##### Problem statement\n",
    "define a function to read data from a text file\n",
    "#### Constrains\n",
    "\n",
    "#### Test Cases\n",
    "* Test case 1\n",
    "* Test case 2\n",
    "* Test case 3"
   ]
  },
  {
   "cell_type": "code",
   "execution_count": 18,
   "metadata": {},
   "outputs": [],
   "source": [
    "def readFileData(filename):\n",
    "    #f = open(filename,'r')\n",
    "    with open(filename,'r') as f:\n",
    "        #filedata=f.readline()\n",
    "        #for line in f:\n",
    "         #   print(line,end='')\n",
    "    #filedata+=f.readkine\n",
    "        print(f.read())\n",
    "    #f.close()\n",
    "    return \n",
    "\n",
    "\n",
    "\n",
    "def writeIntoFile(filename,data,mode):\n",
    "    with open(filename,mode) as f:\n",
    "        f.write(data)\n",
    "    return\n",
    "\n",
    "writeIntoFile('DataFiles/fileWrite.txt','third line\\n','a')"
   ]
  },
  {
   "cell_type": "markdown",
   "metadata": {},
   "source": [
    "### Problem 2:\n",
    "##### Problem statement\n",
    "define a function to generate a marks data file for 1300 students such that each mark is entered in a new line .Marks range from 0 to 100 (inclusive ) as random numbers\n"
   ]
  },
  {
   "cell_type": "code",
   "execution_count": 68,
   "metadata": {},
   "outputs": [],
   "source": [
    "import random\n",
    "def generateMarksData(n,filename):\n",
    "    with open(filename,'w') as marksfile:\n",
    "        for i in range(0,n):\n",
    "            marks = random.randint(0,101)\n",
    "            marksfile.write(str(marks)+'\\n')\n",
    "        return\n",
    "generateMarksData(1300,'marksdata.txt')"
   ]
  },
  {
   "cell_type": "markdown",
   "metadata": {},
   "source": [
    "### Problem 3:\n",
    "##### Problem statement\n",
    "Generate a report on the marks data with the following indicators\n",
    "* Highest mark:\n",
    "* lowest mark:\n",
    "* average marks:\n",
    "* no of students with distinction (>80): \n",
    "* no of students with first class(>70): \n",
    "* no of students with second class(>60):\n",
    "* no of students with third class(>40):\n",
    "* no of students failed(<40):\n",
    "\n"
   ]
  },
  {
   "cell_type": "code",
   "execution_count": 18,
   "metadata": {},
   "outputs": [
    {
     "name": "stdout",
     "output_type": "stream",
     "text": [
      "101\n",
      "0\n",
      "50.70230769230769\n",
      "distinction 298\n",
      "first class 124\n",
      "second class 114\n",
      "third class 243\n",
      "fail: 521\n"
     ]
    },
    {
     "data": {
      "text/plain": [
       "0.0067668069998489955"
      ]
     },
     "execution_count": 18,
     "metadata": {},
     "output_type": "execute_result"
    }
   ],
   "source": [
    "import timeit\n",
    "def readfiledata(filename,mode):\n",
    "    with open(filename,mode) as marksfile:\n",
    "        start=timeit.default_timer()\n",
    "        a=[]\n",
    "        sum=0\n",
    "        count=0\n",
    "        b=0\n",
    "        c=0\n",
    "        d=0\n",
    "        e=0\n",
    "        for i in range(0,1300):\n",
    "            a.append(int(marksfile.readline()))\n",
    "        print(max(a)) \n",
    "        print(min(a))\n",
    "        for i in range(0,len(a)):\n",
    "            sum=sum+a[i]\n",
    "        average =sum/1300\n",
    "        print(average)\n",
    "        for i in range(0,len(a)):\n",
    "            if(a[i]>=80):\n",
    "                count=count+1\n",
    "        \n",
    "            if(70<=a[i]<80):\n",
    "                b=b+1\n",
    "        \n",
    "            if(60<=a[i]<70):\n",
    "                c=c+1\n",
    "       \n",
    "            if(40<=a[i]<60):\n",
    "                d=d+1\n",
    "       \n",
    "            if(a[i]<40):\n",
    "                e=e+1\n",
    "        print('distinction',count)\n",
    "        print('first class',b)\n",
    "        print('second class',c)\n",
    "        print('third class',d)\n",
    "        print('fail:',e)\n",
    "        with open('DataFiles/MarksReport.txt','w') as f: \n",
    "            f.write('Highest mark : ' + str(max(a)) + '\\n')\n",
    "            f.write('Lowest mark : ' + str(min(a)) + '\\n')\n",
    "            f.write('Average mark : ' + str(average) + '\\n')\n",
    "            f.write('Number of students with distinction : '+ str(count) + '\\n')\n",
    "            f.write('Number of students with first class : '+ str(b) + '\\n')\n",
    "            f.write('Number of students with second class : '+ str(c) + '\\n')\n",
    "            f.write('Number of students with third class : '+ str(d) + '\\n')\n",
    "            f.write('Number of students who failed : '+ str(e) + '\\n')\n",
    "        return timeit.default_timer()-start   \n",
    "readfiledata('DataFiles/marksdata.txt','r')      \n",
    "\n",
    "    "
   ]
  },
  {
   "cell_type": "code",
   "execution_count": 1,
   "metadata": {},
   "outputs": [],
   "source": [
    "import timeit\n",
    "def square(n):\n",
    "    return n*n\n",
    "st=timeit.default_timer()\n",
    "li=[1,2,3,4,5,6]\n",
    "s= list(map(str,li))\n",
    "\n",
    "s=[float(i) for i in s]\n",
    "print(timeit.default_timer()-st)\n",
    "s\n"
   ]
  },
  {
   "cell_type": "code",
   "execution_count": 89,
   "metadata": {},
   "outputs": [
    {
     "data": {
      "text/plain": [
       "5"
      ]
     },
     "execution_count": 89,
     "metadata": {},
     "output_type": "execute_result"
    }
   ],
   "source": [
    "li=[3,5,1,6,7,9]\n",
    "\n",
    "res=sum(1 for i in li if i%2 !=0)\n",
    "res"
   ]
  },
  {
   "cell_type": "code",
   "execution_count": 104,
   "metadata": {},
   "outputs": [
    {
     "data": {
      "text/plain": [
       "3"
      ]
     },
     "execution_count": 104,
     "metadata": {},
     "output_type": "execute_result"
    }
   ],
   "source": [
    "mark=[3,5,1,6,7,9]\n",
    "def distinction(mark):\n",
    "    return mark>=6\n",
    "\n",
    "dis=sum(map(distinction,mark))\n"
   ]
  },
  {
   "cell_type": "markdown",
   "metadata": {},
   "source": [
    "## External libraries"
   ]
  },
  {
   "cell_type": "code",
   "execution_count": 125,
   "metadata": {},
   "outputs": [
    {
     "name": "stdout",
     "output_type": "stream",
     "text": [
      "[[0 1 2]\n",
      " [3 4 5]\n",
      " [6 7 8]]\n"
     ]
    },
    {
     "data": {
      "text/plain": [
       "numpy.ndarray"
      ]
     },
     "execution_count": 125,
     "metadata": {},
     "output_type": "execute_result"
    }
   ],
   "source": [
    "import numpy as np\n",
    "a=np.array([[0,1,2],[3,4,5],[6,7,8]])\n",
    "\n",
    "print(a)\n",
    "type(a)"
   ]
  },
  {
   "cell_type": "code",
   "execution_count": null,
   "metadata": {},
   "outputs": [],
   "source": []
  }
 ],
 "metadata": {
  "kernelspec": {
   "display_name": "Python 3",
   "language": "python",
   "name": "python3"
  },
  "language_info": {
   "codemirror_mode": {
    "name": "ipython",
    "version": 3
   },
   "file_extension": ".py",
   "mimetype": "text/x-python",
   "name": "python",
   "nbconvert_exporter": "python",
   "pygments_lexer": "ipython3",
   "version": "3.7.3"
  }
 },
 "nbformat": 4,
 "nbformat_minor": 2
}
