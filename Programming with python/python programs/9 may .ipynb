{
 "cells": [
  {
   "cell_type": "markdown",
   "metadata": {},
   "source": [
    "#  Problem solving and programming \n",
    "##  Day no -06\n",
    "##  Pv poorna sasidhar\n",
    "##  09-05-2019 \n"
   ]
  },
  {
   "cell_type": "markdown",
   "metadata": {},
   "source": [
    "##   Problem 2\n",
    "  Statement Given polynomial x^3+2x^2+3x-10\n",
    "## constraints \n",
    "  Given range is [1,1000]\n",
    "### Test cases\n",
    "* x=2\n",
    "* x=3\n",
    "  "
   ]
  },
  {
   "cell_type": "code",
   "execution_count": 40,
   "metadata": {},
   "outputs": [
    {
     "name": "stdout",
     "output_type": "stream",
     "text": [
      "12\n"
     ]
    }
   ],
   "source": [
    "def quadratic(x):\n",
    "    if(1<x<1000):\n",
    "        n=(x**3)+(2*(x**2))+3*x-10\n",
    "        print(n)\n",
    "    else:\n",
    "        print(\"x is not in range\")\n",
    "      \n",
    "      \n",
    "quadratic(2) \n",
    "\n",
    "\n",
    "    \n",
    "   "
   ]
  },
  {
   "cell_type": "markdown",
   "metadata": {},
   "source": [
    "##   Problem 3\n",
    " Determining whether a number is Even or Odd \n",
    "### Test cases\n",
    "* x=2\n",
    "* x=3"
   ]
  },
  {
   "cell_type": "code",
   "execution_count": 72,
   "metadata": {},
   "outputs": [
    {
     "name": "stdout",
     "output_type": "stream",
     "text": [
      "5  is odd\n"
     ]
    }
   ],
   "source": [
    "def even(x):\n",
    "    if(x%2==0):\n",
    "        print(x , \" is Even\")\n",
    "    else:\n",
    "        print(x ,\" is odd\")\n",
    "        \n",
    "        \n",
    "even(5)"
   ]
  },
  {
   "cell_type": "markdown",
   "metadata": {},
   "source": [
    "##   Problem 4\n",
    "  Given 2 ints, a and b, return True if one if them is 10 or if their sum is 10.\n",
    "### Test cases\n",
    "* makes10(9, 10) → True\n",
    "* makes10(9, 9) → False\n",
    "* makes10(1, 9) → True\n",
    "  "
   ]
  },
  {
   "cell_type": "code",
   "execution_count": 93,
   "metadata": {},
   "outputs": [
    {
     "name": "stdout",
     "output_type": "stream",
     "text": [
      "1 9 true\n"
     ]
    }
   ],
   "source": [
    "def sum(a,b):\n",
    "        if(a==10 or b==10 or a+b==10 ):\n",
    "            print(a, b ,\"true\")\n",
    "        else:\n",
    "            print(a, b ,\"false\")\n",
    "            \n",
    "        \n",
    "sum(1,9)\n",
    "\n",
    "            \n",
    "    "
   ]
  },
  {
   "cell_type": "markdown",
   "metadata": {},
   "source": [
    "##   Problem 5\n",
    "Given 2 int values, return True if one is negative and one is positive. Except if the parameter \"negative\" is True, then return True only if both are negative.\n",
    "### Test cases\n",
    "* pos_neg(1, -1, False) → True\n",
    "* pos_neg(-1, 1, False) → True\n",
    "* pos_neg(-4, -5, True) → True\n",
    "* pos_neg(-1, 1, true) → false\n",
    "* pos_neg(1, 6, true) → false\n",
    "* pos_neg(-1, -9, false) → false\n",
    "\n",
    "  "
   ]
  },
  {
   "cell_type": "code",
   "execution_count": 90,
   "metadata": {},
   "outputs": [
    {
     "name": "stdout",
     "output_type": "stream",
     "text": [
      "True\n",
      "True\n",
      "False\n",
      "False\n",
      "False\n",
      "False\n"
     ]
    }
   ],
   "source": [
    "def pos_neg(n1,n2,b):\n",
    "    if(n1<0 and n2>0 and b== False):\n",
    "        return True\n",
    "    elif(n1>0 and n2<0 and b== False):\n",
    "        return True\n",
    "    else:\n",
    "        return False\n",
    "print(pos_neg(1, -1,False))\n",
    "print(pos_neg(-1, 1,False))\n",
    "print(pos_neg(-4, -5,True))\n",
    "print(pos_neg(-1, 1,True))\n",
    "print(pos_neg(1, 6, True))\n",
    "print(pos_neg(-1, -9,False))"
   ]
  },
  {
   "cell_type": "markdown",
   "metadata": {},
   "source": [
    "##   Problem 6\n",
    "Given an int n, return True if it is within 10 of 100 or 200. Note: abs(num) computes the absolute value of a number.\n",
    "### Test cases\n",
    "* near_hundred(93) → True\n",
    "* near_hundred(90) → True\n",
    "* near_hundred(89) → False"
   ]
  },
  {
   "cell_type": "code",
   "execution_count": null,
   "metadata": {},
   "outputs": [],
   "source": [
    "def near_hundred(n)\n",
    "    if(n>=10 and  n<=110 or n>=10 and n<=10 and n<=210):\n",
    "        return True\n",
    "    else:\n",
    "        retuen False\n",
    "print(near_hundred(93))\n",
    "near_hundred(90)\n",
    "near_hundred(89)\n",
    "        \n",
    "    "
   ]
  },
  {
   "cell_type": "markdown",
   "metadata": {},
   "source": [
    "##   Problem 7\n",
    "Create a Random Number Generator as a Procedure which takes the Range(lb, ub) and returns a Random number in the given range\n",
    "### constraints\n",
    "lb< randomnumber < ub\n",
    "### test cases\n",
    "* Random Genrator (1,100) -> will be in range (1,100)"
   ]
  },
  {
   "cell_type": "code",
   "execution_count": 94,
   "metadata": {},
   "outputs": [
    {
     "data": {
      "text/plain": [
       "44"
      ]
     },
     "execution_count": 94,
     "metadata": {},
     "output_type": "execute_result"
    }
   ],
   "source": [
    "import random\n",
    "def randomgenerator(lb,ub):\n",
    "    return random.randrange(lb+1,ub)\n",
    "\n",
    "randomgenerator(1,101)"
   ]
  },
  {
   "cell_type": "markdown",
   "metadata": {},
   "source": [
    "## Problem 8\n",
    "sum of N Random numbers in the range [0,1000000000000000)"
   ]
  },
  {
   "cell_type": "code",
   "execution_count": 96,
   "metadata": {},
   "outputs": [
    {
     "data": {
      "text/plain": [
       "494667948748547"
      ]
     },
     "execution_count": 96,
     "metadata": {},
     "output_type": "execute_result"
    }
   ],
   "source": [
    "import random \n",
    "def sumRandomNumbers(n,lb,ub):\n",
    "    sum=0\n",
    "    for count in range(1,n+1):\n",
    "        sum =sum+random.randint(lb,ub)\n",
    "    return sum\n",
    "\n",
    "sumRandomNumbers(100,100000000,10000000000000)"
   ]
  },
  {
   "cell_type": "markdown",
   "metadata": {},
   "source": [
    "## Problem 9\n",
    "Procedure to print N natural numbers"
   ]
  },
  {
   "cell_type": "code",
   "execution_count": 118,
   "metadata": {},
   "outputs": [
    {
     "name": "stdout",
     "output_type": "stream",
     "text": [
      "0123456789101112131415161718192021222324252627282930313233343536373839404142434445464748495051525354555657585960616263646566676869707172737475767778798081828384858687888990919293949596979899100"
     ]
    }
   ],
   "source": [
    "def numbers(count,n):\n",
    "    for count in range (count,n+1):\n",
    "        print(count,end='')\n",
    "numbers(0,100)"
   ]
  },
  {
   "cell_type": "markdown",
   "metadata": {},
   "source": [
    "## problem 10\n",
    "Procedure to calculate the factorial of a given number"
   ]
  },
  {
   "cell_type": "code",
   "execution_count": 120,
   "metadata": {},
   "outputs": [
    {
     "data": {
      "text/plain": [
       "720"
      ]
     },
     "execution_count": 120,
     "metadata": {},
     "output_type": "execute_result"
    }
   ],
   "source": [
    "def factorial(count,n):\n",
    "    fact=1\n",
    "    for count in range(count,n+1):\n",
    "        fact=fact*count\n",
    "    return fact\n",
    "factorial(1,6)\n"
   ]
  },
  {
   "cell_type": "markdown",
   "metadata": {},
   "source": [
    "## Problem 11\n",
    "Design a procedure to perform Linear search on list of N unsorted unique numbers. It take an array and the key element to be searched and returns the index of the element of key element if found. Else returns -1\n",
    "### Test cases\n",
    "* LinearSearch( a[5,4,3,2,1], 4) -> 1\n",
    "* LinearSearch( a[90, 123, 324, 21, 56], 22) -> -1"
   ]
  },
  {
   "cell_type": "code",
   "execution_count": 114,
   "metadata": {},
   "outputs": [
    {
     "name": "stdout",
     "output_type": "stream",
     "text": [
      "1\n",
      "-1\n"
     ]
    }
   ],
   "source": [
    "def linearSearch(a,key):\n",
    "    for i in range (0,len(a)):\n",
    "        if(a[i]==key):\n",
    "            return i\n",
    "    return -1\n",
    "print(linearSearch( [5,4,3,2,1], 4))\n",
    "print(linearSearch( [90, 123, 324, 21, 56], 22))"
   ]
  },
  {
   "cell_type": "markdown",
   "metadata": {},
   "source": [
    "## Problem 12\n",
    "Procedure to generate multiplication tables. \n",
    "###  Test cases\n",
    "* MT(3, 5, 7) ->  3 X 5 = 15\n",
    "* MT(3, 5, 7) ->  3 X 6 = 18\n",
    "* MT(3, 5, 7) ->  3 X 7 = 21\n",
    "\n",
    "                "
   ]
  },
  {
   "cell_type": "code",
   "execution_count": 127,
   "metadata": {},
   "outputs": [
    {
     "name": "stdout",
     "output_type": "stream",
     "text": [
      "3 * 5 = 15\n",
      "3 * 6 = 18\n",
      "3 * 7 = 21\n"
     ]
    }
   ],
   "source": [
    "def multi(n,lb,ub):\n",
    "    for i in range (lb,ub+1):\n",
    "        \n",
    "        print(n ,\"*\", i ,\"=\", n*i )\n",
    "        \n",
    "        \n",
    "multi(3,5,7)"
   ]
  },
  {
   "cell_type": "markdown",
   "metadata": {},
   "source": [
    "##  Problem 13\n",
    " Procedure to print the list of factors of a given number.\n",
    " ### Test cases\n",
    " * FactorList(6)  ->  1 2 3 6\n",
    "\n",
    " * FactorList (9) ->   1 3 9\n",
    "\n",
    " * FactorList (19) ->  1  19\n"
   ]
  },
  {
   "cell_type": "code",
   "execution_count": 134,
   "metadata": {},
   "outputs": [
    {
     "name": "stdout",
     "output_type": "stream",
     "text": [
      "1\n",
      "19\n"
     ]
    }
   ],
   "source": [
    "def factors(n):\n",
    "    for i in range (1,n+1):\n",
    "        if (n%i==0):\n",
    "            print(i) \n",
    "    \n",
    "            \n",
    "factors(19)"
   ]
  },
  {
   "cell_type": "markdown",
   "metadata": {},
   "source": [
    "## Problem 14\n",
    " Procedure to check if a given number is Prime and returns a Boolean value.\n",
    " ### test cases\n",
    "* IsPrime(7) -> True\n",
    "* IsPrime(9) ->  False\n",
    "        "
   ]
  },
  {
   "cell_type": "code",
   "execution_count": 153,
   "metadata": {},
   "outputs": [
    {
     "name": "stdout",
     "output_type": "stream",
     "text": [
      "prime 7\n"
     ]
    }
   ],
   "source": [
    "def prime(n):\n",
    "    count=0\n",
    "    for i in range(2,n):\n",
    "        if (n%i==0):\n",
    "            count=count+1\n",
    "            \n",
    "            \n",
    "    if(count==0):\n",
    "        print(\"prime\",i+1)\n",
    "    else:\n",
    "         print(\"not prime\",i+1)\n",
    "                       \n",
    "prime(7)"
   ]
  },
  {
   "cell_type": "markdown",
   "metadata": {},
   "source": [
    "## Problem 15\n",
    "Procedure to count the number of digits in a given number."
   ]
  },
  {
   "cell_type": "code",
   "execution_count": 6,
   "metadata": {},
   "outputs": [
    {
     "data": {
      "text/plain": [
       "6"
      ]
     },
     "execution_count": 6,
     "metadata": {},
     "output_type": "execute_result"
    }
   ],
   "source": [
    "def count(n):\n",
    "    count=0\n",
    "    if(n==0):\n",
    "        return 1\n",
    "    while(n>0):\n",
    "        count=count+1\n",
    "        n=int(n/10)\n",
    "        \n",
    "        \n",
    "    return count\n",
    "            \n",
    "            \n",
    "            \n",
    "        \n",
    "       \n",
    "              \n",
    "    \n",
    "count(123456)\n"
   ]
  },
  {
   "cell_type": "markdown",
   "metadata": {},
   "source": [
    "## Problem 16\n",
    " Procedure to check if a given number is a Perfect Number. ( Perfect number is a number for which the sum of all it's divisors is equal to the number itself)\n",
    "\n",
    "### Test condtions\n",
    " * IsPerfect(3) -> False\n",
    "\n",
    " * IsPerfect (6) -> True\n",
    "\n"
   ]
  },
  {
   "cell_type": "code",
   "execution_count": 3,
   "metadata": {},
   "outputs": [
    {
     "name": "stdout",
     "output_type": "stream",
     "text": [
      "perfect number\n"
     ]
    }
   ],
   "source": [
    "def perfect(n):\n",
    "    sum=0\n",
    "    for i in range(1,n):\n",
    "        if(n%i==0):\n",
    "            sum=sum+i\n",
    "    if(sum==n):\n",
    "        print(\"perfect number\")\n",
    "    else:\n",
    "        print(\"not a perfect number\")\n",
    "perfect(6)\n"
   ]
  },
  {
   "cell_type": "code",
   "execution_count": null,
   "metadata": {},
   "outputs": [],
   "source": []
  }
 ],
 "metadata": {
  "kernelspec": {
   "display_name": "Python 3",
   "language": "python",
   "name": "python3"
  },
  "language_info": {
   "codemirror_mode": {
    "name": "ipython",
    "version": 3
   },
   "file_extension": ".py",
   "mimetype": "text/x-python",
   "name": "python",
   "nbconvert_exporter": "python",
   "pygments_lexer": "ipython3",
   "version": "3.7.3"
  }
 },
 "nbformat": 4,
 "nbformat_minor": 2
}
